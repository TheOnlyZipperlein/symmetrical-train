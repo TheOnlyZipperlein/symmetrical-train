{
 "cells": [
  {
   "cell_type": "code",
   "execution_count": 10,
   "metadata": {},
   "outputs": [],
   "source": [
    "import pandas as pd\n",
    "import matplotlib.pyplot as plt\n",
    "import os"
   ]
  },
  {
   "cell_type": "code",
   "execution_count": 11,
   "metadata": {},
   "outputs": [],
   "source": [
    "# Define the path to the directory containing the CSV files\n",
    "directory_path = './hite_items'\n",
    "\n",
    "# Initialize an empty dictionary to store the DataFrames\n",
    "dataframes_dict = {}\n",
    "\n",
    "# Iterate over the files in the directory\n",
    "for filename in os.listdir(directory_path):\n",
    "    # Check if the file is a CSV file\n",
    "    if filename.endswith('.csv'):\n",
    "        # Create the full file path\n",
    "        file_path = os.path.join(directory_path, filename)\n",
    "        \n",
    "        # Read the CSV file into a DataFrame\n",
    "        df = pd.read_csv(file_path)\n",
    "        \n",
    "        # Use the filename (without extension) as the key\n",
    "        key = os.path.splitext(filename)[0]\n",
    "        \n",
    "        # Store the DataFrame in the dictionary\n",
    "        dataframes_dict[key] = df"
   ]
  },
  {
   "cell_type": "code",
   "execution_count": 12,
   "metadata": {},
   "outputs": [
    {
     "data": {
      "text/html": [
       "<div>\n",
       "<style scoped>\n",
       "    .dataframe tbody tr th:only-of-type {\n",
       "        vertical-align: middle;\n",
       "    }\n",
       "\n",
       "    .dataframe tbody tr th {\n",
       "        vertical-align: top;\n",
       "    }\n",
       "\n",
       "    .dataframe thead th {\n",
       "        text-align: right;\n",
       "    }\n",
       "</style>\n",
       "<table border=\"1\" class=\"dataframe\">\n",
       "  <thead>\n",
       "    <tr style=\"text-align: right;\">\n",
       "      <th></th>\n",
       "      <th>date</th>\n",
       "      <th>net_sales</th>\n",
       "      <th>quantity</th>\n",
       "    </tr>\n",
       "  </thead>\n",
       "  <tbody>\n",
       "    <tr>\n",
       "      <th>0</th>\n",
       "      <td>2000-01-17</td>\n",
       "      <td>76644.41</td>\n",
       "      <td>347</td>\n",
       "    </tr>\n",
       "    <tr>\n",
       "      <th>1</th>\n",
       "      <td>2000-02-28</td>\n",
       "      <td>71564.23</td>\n",
       "      <td>324</td>\n",
       "    </tr>\n",
       "    <tr>\n",
       "      <th>2</th>\n",
       "      <td>2000-03-13</td>\n",
       "      <td>70901.60</td>\n",
       "      <td>321</td>\n",
       "    </tr>\n",
       "    <tr>\n",
       "      <th>3</th>\n",
       "      <td>2000-04-13</td>\n",
       "      <td>70238.97</td>\n",
       "      <td>318</td>\n",
       "    </tr>\n",
       "    <tr>\n",
       "      <th>4</th>\n",
       "      <td>2000-05-31</td>\n",
       "      <td>62729.14</td>\n",
       "      <td>284</td>\n",
       "    </tr>\n",
       "    <tr>\n",
       "      <th>...</th>\n",
       "      <td>...</td>\n",
       "      <td>...</td>\n",
       "      <td>...</td>\n",
       "    </tr>\n",
       "    <tr>\n",
       "      <th>58</th>\n",
       "      <td>2005-07-13</td>\n",
       "      <td>64723.70</td>\n",
       "      <td>293</td>\n",
       "    </tr>\n",
       "    <tr>\n",
       "      <th>59</th>\n",
       "      <td>2005-08-11</td>\n",
       "      <td>69583.50</td>\n",
       "      <td>315</td>\n",
       "    </tr>\n",
       "    <tr>\n",
       "      <th>60</th>\n",
       "      <td>2005-09-13</td>\n",
       "      <td>81733.00</td>\n",
       "      <td>370</td>\n",
       "    </tr>\n",
       "    <tr>\n",
       "      <th>61</th>\n",
       "      <td>2005-10-14</td>\n",
       "      <td>68258.10</td>\n",
       "      <td>309</td>\n",
       "    </tr>\n",
       "    <tr>\n",
       "      <th>62</th>\n",
       "      <td>2005-11-14</td>\n",
       "      <td>71571.60</td>\n",
       "      <td>324</td>\n",
       "    </tr>\n",
       "  </tbody>\n",
       "</table>\n",
       "<p>63 rows × 3 columns</p>\n",
       "</div>"
      ],
      "text/plain": [
       "          date  net_sales  quantity\n",
       "0   2000-01-17   76644.41       347\n",
       "1   2000-02-28   71564.23       324\n",
       "2   2000-03-13   70901.60       321\n",
       "3   2000-04-13   70238.97       318\n",
       "4   2000-05-31   62729.14       284\n",
       "..         ...        ...       ...\n",
       "58  2005-07-13   64723.70       293\n",
       "59  2005-08-11   69583.50       315\n",
       "60  2005-09-13   81733.00       370\n",
       "61  2005-10-14   68258.10       309\n",
       "62  2005-11-14   71571.60       324\n",
       "\n",
       "[63 rows x 3 columns]"
      ]
     },
     "execution_count": 12,
     "metadata": {},
     "output_type": "execute_result"
    }
   ],
   "source": [
    "dataframes_dict[\"Festplatte1080GB_SCSI-2-Fast\"]"
   ]
  },
  {
   "cell_type": "code",
   "execution_count": 13,
   "metadata": {},
   "outputs": [],
   "source": [
    "def merge_dataframes(keys, dataframes_dict):\n",
    "    \"\"\"\n",
    "    Merge DataFrames based on the 'date' column and sum the values of other columns if dates are the same.\n",
    "    \n",
    "    Parameters:\n",
    "    keys (list): List of keys (filenames without extension) to be merged.\n",
    "    dataframes_dict (dict): Dictionary containing DataFrames.\n",
    "    \n",
    "    Returns:\n",
    "    pd.DataFrame: Merged DataFrame.\n",
    "    \"\"\"\n",
    "    # Ensure all selected DataFrames have 'date' as a datetime type column\n",
    "    for key in keys:\n",
    "        dataframes_dict[key]['date'] = pd.to_datetime(dataframes_dict[key]['date'])\n",
    "    \n",
    "    # Initialize the merged DataFrame with the first DataFrame in the list\n",
    "    merged_df = dataframes_dict[keys[0]]\n",
    "    \n",
    "    # Iterate over the remaining DataFrames and merge them\n",
    "    for key in keys[1:]:\n",
    "        merged_df = pd.merge(merged_df, dataframes_dict[key], on='date', how='outer', suffixes=('', '_dup'))\n",
    "        \n",
    "        # Sum the columns with the same name\n",
    "        for column in merged_df.columns:\n",
    "            if '_dup' in column:\n",
    "                original_column = column.replace('_dup', '')\n",
    "                merged_df[original_column] = merged_df[original_column].fillna(0) + merged_df[column].fillna(0)\n",
    "                merged_df.drop(column, axis=1, inplace=True)\n",
    "    \n",
    "    # Sort by date to maintain chronological order\n",
    "    merged_df.sort_values(by='date', inplace=True)\n",
    "    \n",
    "    return merged_df"
   ]
  },
  {
   "cell_type": "code",
   "execution_count": 6,
   "metadata": {},
   "outputs": [],
   "source": [
    "keys_to_merge = [\"FlatscreenLE64P\", \"FlatscreenMS1775P\", \"FlatscreenMS1785P\"]\n",
    "merged_df = merge_dataframes(keys_to_merge, dataframes_dict)"
   ]
  },
  {
   "cell_type": "code",
   "execution_count": 7,
   "metadata": {},
   "outputs": [
    {
     "data": {
      "text/html": [
       "<div>\n",
       "<style scoped>\n",
       "    .dataframe tbody tr th:only-of-type {\n",
       "        vertical-align: middle;\n",
       "    }\n",
       "\n",
       "    .dataframe tbody tr th {\n",
       "        vertical-align: top;\n",
       "    }\n",
       "\n",
       "    .dataframe thead th {\n",
       "        text-align: right;\n",
       "    }\n",
       "</style>\n",
       "<table border=\"1\" class=\"dataframe\">\n",
       "  <thead>\n",
       "    <tr style=\"text-align: right;\">\n",
       "      <th></th>\n",
       "      <th>date</th>\n",
       "      <th>net_sales</th>\n",
       "      <th>quantity</th>\n",
       "    </tr>\n",
       "  </thead>\n",
       "  <tbody>\n",
       "    <tr>\n",
       "      <th>0</th>\n",
       "      <td>2000-01-31</td>\n",
       "      <td>54057.18</td>\n",
       "      <td>50.0</td>\n",
       "    </tr>\n",
       "    <tr>\n",
       "      <th>1</th>\n",
       "      <td>2000-02-15</td>\n",
       "      <td>50776.01</td>\n",
       "      <td>47.0</td>\n",
       "    </tr>\n",
       "    <tr>\n",
       "      <th>2</th>\n",
       "      <td>2000-03-22</td>\n",
       "      <td>49972.90</td>\n",
       "      <td>46.0</td>\n",
       "    </tr>\n",
       "    <tr>\n",
       "      <th>3</th>\n",
       "      <td>2000-04-17</td>\n",
       "      <td>49851.04</td>\n",
       "      <td>46.0</td>\n",
       "    </tr>\n",
       "    <tr>\n",
       "      <th>4</th>\n",
       "      <td>2000-05-31</td>\n",
       "      <td>43233.25</td>\n",
       "      <td>40.0</td>\n",
       "    </tr>\n",
       "  </tbody>\n",
       "</table>\n",
       "</div>"
      ],
      "text/plain": [
       "        date  net_sales  quantity\n",
       "0 2000-01-31   54057.18      50.0\n",
       "1 2000-02-15   50776.01      47.0\n",
       "2 2000-03-22   49972.90      46.0\n",
       "3 2000-04-17   49851.04      46.0\n",
       "4 2000-05-31   43233.25      40.0"
      ]
     },
     "execution_count": 7,
     "metadata": {},
     "output_type": "execute_result"
    }
   ],
   "source": [
    "merged_df.head()"
   ]
  },
  {
   "cell_type": "code",
   "execution_count": 16,
   "metadata": {},
   "outputs": [],
   "source": [
    "# Convert 'date' column to datetime format\n",
    "df['date'] = pd.to_datetime(df['date'])"
   ]
  },
  {
   "cell_type": "code",
   "execution_count": 17,
   "metadata": {},
   "outputs": [],
   "source": [
    "# Add columns for day of the month, day of the week, and month of the year\n",
    "df['day_of_month'] = df['date'].dt.day\n",
    "df['day_of_week'] = df['date'].dt.dayofweek  # Monday=0, Sunday=6\n",
    "df['month_of_year'] = df['date'].dt.month"
   ]
  },
  {
   "cell_type": "code",
   "execution_count": 18,
   "metadata": {},
   "outputs": [
    {
     "data": {
      "text/html": [
       "<div>\n",
       "<style scoped>\n",
       "    .dataframe tbody tr th:only-of-type {\n",
       "        vertical-align: middle;\n",
       "    }\n",
       "\n",
       "    .dataframe tbody tr th {\n",
       "        vertical-align: top;\n",
       "    }\n",
       "\n",
       "    .dataframe thead th {\n",
       "        text-align: right;\n",
       "    }\n",
       "</style>\n",
       "<table border=\"1\" class=\"dataframe\">\n",
       "  <thead>\n",
       "    <tr style=\"text-align: right;\">\n",
       "      <th></th>\n",
       "      <th>date</th>\n",
       "      <th>net_sales</th>\n",
       "      <th>quantity</th>\n",
       "      <th>day_of_month</th>\n",
       "      <th>day_of_week</th>\n",
       "      <th>month_of_year</th>\n",
       "    </tr>\n",
       "  </thead>\n",
       "  <tbody>\n",
       "    <tr>\n",
       "      <th>0</th>\n",
       "      <td>2000-01-17</td>\n",
       "      <td>12347.83</td>\n",
       "      <td>339</td>\n",
       "      <td>17</td>\n",
       "      <td>0</td>\n",
       "      <td>1</td>\n",
       "    </tr>\n",
       "    <tr>\n",
       "      <th>1</th>\n",
       "      <td>2000-02-28</td>\n",
       "      <td>11582.92</td>\n",
       "      <td>318</td>\n",
       "      <td>28</td>\n",
       "      <td>0</td>\n",
       "      <td>2</td>\n",
       "    </tr>\n",
       "    <tr>\n",
       "      <th>2</th>\n",
       "      <td>2000-03-13</td>\n",
       "      <td>11473.65</td>\n",
       "      <td>315</td>\n",
       "      <td>13</td>\n",
       "      <td>0</td>\n",
       "      <td>3</td>\n",
       "    </tr>\n",
       "    <tr>\n",
       "      <th>3</th>\n",
       "      <td>2000-04-13</td>\n",
       "      <td>11250.73</td>\n",
       "      <td>312</td>\n",
       "      <td>13</td>\n",
       "      <td>3</td>\n",
       "      <td>4</td>\n",
       "    </tr>\n",
       "    <tr>\n",
       "      <th>4</th>\n",
       "      <td>2000-05-31</td>\n",
       "      <td>10125.95</td>\n",
       "      <td>278</td>\n",
       "      <td>31</td>\n",
       "      <td>2</td>\n",
       "      <td>5</td>\n",
       "    </tr>\n",
       "  </tbody>\n",
       "</table>\n",
       "</div>"
      ],
      "text/plain": [
       "        date  net_sales  quantity  day_of_month  day_of_week  month_of_year\n",
       "0 2000-01-17   12347.83       339            17            0              1\n",
       "1 2000-02-28   11582.92       318            28            0              2\n",
       "2 2000-03-13   11473.65       315            13            0              3\n",
       "3 2000-04-13   11250.73       312            13            3              4\n",
       "4 2000-05-31   10125.95       278            31            2              5"
      ]
     },
     "execution_count": 18,
     "metadata": {},
     "output_type": "execute_result"
    }
   ],
   "source": [
    "df.head()"
   ]
  },
  {
   "cell_type": "code",
   "execution_count": 20,
   "metadata": {},
   "outputs": [
    {
     "data": {
      "text/plain": [
       "(64, 6)"
      ]
     },
     "execution_count": 20,
     "metadata": {},
     "output_type": "execute_result"
    }
   ],
   "source": [
    "df.shape"
   ]
  },
  {
   "cell_type": "code",
   "execution_count": 35,
   "metadata": {},
   "outputs": [],
   "source": [
    "from sklearn.model_selection import train_test_split\n",
    "from sklearn.ensemble import RandomForestRegressor\n",
    "from sklearn.tree import DecisionTreeRegressor\n",
    "from sklearn.metrics import mean_squared_error, r2_score"
   ]
  },
  {
   "cell_type": "code",
   "execution_count": 23,
   "metadata": {},
   "outputs": [],
   "source": [
    "# Prepare features and target\n",
    "X = df[['day_of_month', 'day_of_week', 'month_of_year']]\n",
    "y = df['quantity']\n",
    "# Split data into training and testing sets\n",
    "X_train, X_test, y_train, y_test = train_test_split(X, y, test_size=0.2, random_state=42)"
   ]
  },
  {
   "cell_type": "code",
   "execution_count": 60,
   "metadata": {},
   "outputs": [
    {
     "name": "stdout",
     "output_type": "stream",
     "text": [
      "Mean Squared Error: 10099.638461538461\n",
      "R^2 Score: -0.036768923881708604\n",
      "Predictions: [311.82 312.51 392.24 325.92 343.38 346.58 330.65 313.73 321.11 348.\n",
      " 312.52 309.42 340.22]\n",
      "Actual: [268, 312, 339, 303, 324, 308, 680, 356, 330, 357, 300, 308, 340]\n"
     ]
    }
   ],
   "source": [
    "\n",
    "# Train the Decision Tree Regressor\n",
    "model = RandomForestRegressor(random_state=42)\n",
    "model.fit(X_train, y_train)\n",
    "\n",
    "# Make predictions\n",
    "y_pred = model.predict(X_test)\n",
    "\n",
    "# Evaluate the model\n",
    "mse = mean_squared_error(y_test, y_pred)\n",
    "r2 = r2_score(y_test, y_pred)\n",
    "\n",
    "print(f'Mean Squared Error: {mse}')\n",
    "print(f'R^2 Score: {r2}')\n",
    "\n",
    "# Print the first few predictions\n",
    "print(\"Predictions:\", y_pred)\n",
    "print(\"Actual:\", list(y_test))"
   ]
  },
  {
   "cell_type": "code",
   "execution_count": 61,
   "metadata": {},
   "outputs": [
    {
     "data": {
      "text/plain": [
       "array([0.33941966, 0.20730911, 0.45327122])"
      ]
     },
     "execution_count": 61,
     "metadata": {},
     "output_type": "execute_result"
    }
   ],
   "source": [
    "model.feature_importances_"
   ]
  },
  {
   "cell_type": "code",
   "execution_count": 62,
   "metadata": {},
   "outputs": [
    {
     "data": {
      "text/plain": [
       "array(['day_of_month', 'day_of_week', 'month_of_year'], dtype=object)"
      ]
     },
     "execution_count": 62,
     "metadata": {},
     "output_type": "execute_result"
    }
   ],
   "source": [
    "model.feature_names_in_"
   ]
  },
  {
   "cell_type": "code",
   "execution_count": 68,
   "metadata": {},
   "outputs": [
    {
     "name": "stdout",
     "output_type": "stream",
     "text": [
      "[0, 1, 2, 3, 4, 5, 6, 7, 8, 9, 10, 11, 12]\n",
      "52    268\n",
      "58    312\n",
      "0     339\n",
      "44    303\n",
      "5     324\n",
      "36    308\n",
      "16    680\n",
      "12    356\n",
      "25    330\n",
      "61    357\n",
      "56    300\n",
      "9     308\n",
      "40    340\n",
      "Name: quantity, dtype: int64\n"
     ]
    },
    {
     "data": {
      "text/plain": [
       "<BarContainer object of 13 artists>"
      ]
     },
     "execution_count": 68,
     "metadata": {},
     "output_type": "execute_result"
    },
    {
     "data": {
      "image/png": "[encoded data removed]",
      "text/plain": [
       "<Figure size 640x480 with 1 Axes>"
      ]
     },
     "metadata": {},
     "output_type": "display_data"
    }
   ],
   "source": [
    "indexes = [i for i, _ in enumerate(y_test)]\n",
    "plt.bar(indexes, y_test)\n",
    "plt.bar(indexes, y_pred, alpha=0.5)"
   ]
  },
  {
   "cell_type": "code",
   "execution_count": 69,
   "metadata": {},
   "outputs": [
    {
     "data": {
      "text/plain": [
       "<BarContainer object of 51 artists>"
      ]
     },
     "execution_count": 69,
     "metadata": {},
     "output_type": "execute_result"
    },
    {
     "data": {
      "image/png": "[encoded data removed]",
      "text/plain": [
       "<Figure size 640x480 with 1 Axes>"
      ]
     },
     "metadata": {},
     "output_type": "display_data"
    }
   ],
   "source": [
    "indexes = [i for i, _ in enumerate(y_train)]\n",
    "plt.bar(indexes, y_train)\n",
    "plt.bar(indexes, model.predict(X_train), alpha=0.5)"
   ]
  },
  {
   "cell_type": "code",
   "execution_count": null,
   "metadata": {},
   "outputs": [],
   "source": []
  }
 ],
 "metadata": {
  "kernelspec": {
   "display_name": ".venv",
   "language": "python",
   "name": "python3"
  },
  "language_info": {
   "codemirror_mode": {
    "name": "ipython",
    "version": 3
   },
   "file_extension": ".py",
   "mimetype": "text/x-python",
   "name": "python",
   "nbconvert_exporter": "python",
   "pygments_lexer": "ipython3",
   "version": "3.12.1"
  }
 },
 "nbformat": 4,
 "nbformat_minor": 2
}
