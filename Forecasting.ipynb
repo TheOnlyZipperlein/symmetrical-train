{
 "cells": [
  {
   "cell_type": "code",
   "execution_count": null,
   "metadata": {},
   "outputs": [],
   "source": [
    "import pyodbc\n",
    "import pandas as pd\n",
    "import seaborn as sns\n",
    "import matplotlib.pyplot as plt\n",
    "import numpy as np\n",
    "import re\n",
    "\n",
    "from matplotlib.ticker import MaxNLocator"
   ]
  },
  {
   "cell_type": "code",
   "execution_count": null,
   "metadata": {},
   "outputs": [],
   "source": [
    "import os\n",
    "from os.path import join, dirname\n",
    "from dotenv import load_dotenv\n",
    "dotenv_path = join(dirname(__file__), '.env')\n",
    "load_dotenv(dotenv_path)\n",
    "\n",
    "username = os.environ.get(\"USERNAME\")\n",
    "password = os.environ.get(\"PASSWORD\")"
   ]
  },
  {
   "cell_type": "code",
   "execution_count": null,
   "metadata": {},
   "outputs": [],
   "source": [
    "# Define the connection parameters\n",
    "server = '80.70.181.166'  # Replace with your server name\n",
    "database = 'NV_SAP_DWH'  # Your database name\n",
    "username = username   # Your username\n",
    "password = password   # Your password\n",
    "\n",
    "# Create a connection string\n",
    "connection_string = f'DRIVER={{ODBC Driver 17 for SQL Server}};SERVER={server};DATABASE={database};UID={username};PWD={password}'"
   ]
  },
  {
   "cell_type": "code",
   "execution_count": null,
   "metadata": {},
   "outputs": [],
   "source": [
    "conn = pyodbc.connect(connection_string)"
   ]
  },
  {
   "cell_type": "code",
   "execution_count": null,
   "metadata": {},
   "outputs": [],
   "source": [
    "# Create a cursor object\n",
    "cursor = conn.cursor()\n",
    "\n",
    "table_names = [\"DIM_ITEM\", \"FACT_130_OUTGOING_INVOICE\"]\n",
    "\n",
    "dfs = {}\n",
    "\n",
    "for table in table_names:\n",
    "    query = f'SELECT * FROM {table}'\n",
    "    cursor.execute(query)\n",
    "    columns = [column[0] for column in cursor.description]\n",
    "    rows = cursor.fetchall()\n",
    "    transformed_rows = []\n",
    "    for row in rows:\n",
    "        transformed_rows.append(list(row))\n",
    "    dfs[table] = pd.DataFrame(transformed_rows, columns=columns)\n",
    "\n",
    "conn.close()"
   ]
  },
  {
   "cell_type": "code",
   "execution_count": null,
   "metadata": {},
   "outputs": [],
   "source": [
    "invoice = dfs[\"FACT_130_OUTGOING_INVOICE\"]"
   ]
  },
  {
   "cell_type": "code",
   "execution_count": null,
   "metadata": {},
   "outputs": [],
   "source": [
    "# Convert the date column to datetime format\n",
    "invoice['date'] = pd.to_datetime(invoice['OINV_INVOICE_DATE'], format='%d.%m.%Y')\n",
    "\n",
    "# Extract month and year and create a new column for aggregation\n",
    "invoice['month_year'] = invoice['date'].dt.to_period('M')"
   ]
  },
  {
   "cell_type": "code",
   "execution_count": null,
   "metadata": {},
   "outputs": [],
   "source": [
    "\n",
    "monthly_data_inv = invoice.groupby('month_year')[['OINV_INVOICE_NET_VALUE', 'OINV_INVOICE_QUANTITY']].sum().reset_index()\n",
    "monthly_data_inv['month_year'] = monthly_data_inv['month_year'].astype(str)"
   ]
  },
  {
   "cell_type": "code",
   "execution_count": null,
   "metadata": {},
   "outputs": [],
   "source": [
    "# Create the figure and the subplots\n",
    "fig, axs = plt.subplots(2, 1, figsize=(9, 5))\n",
    "\n",
    "# Plot the first bar chart for net value\n",
    "sns.barplot(ax=axs[0], x='month_year', y='OINV_INVOICE_NET_VALUE', data=monthly_data_inv)\n",
    "axs[0].set_xlabel('Month-Year')\n",
    "axs[0].set_ylabel('Total Net Value')\n",
    "axs[0].set_title('Monthly Aggregated Net Value')\n",
    "axs[0].tick_params(axis='x', rotation=45)\n",
    "\n",
    "# Use MaxNLocator to reduce the number of x-ticks to 10\n",
    "axs[0].xaxis.set_major_locator(MaxNLocator(nbins=10))\n",
    "\n",
    "# Plot the second bar chart for quantity\n",
    "sns.barplot(ax=axs[1], x='month_year', y='OINV_INVOICE_QUANTITY', data=monthly_data_inv)\n",
    "axs[1].set_xlabel('Month-Year')\n",
    "axs[1].set_ylabel('Total Quantity')\n",
    "axs[1].set_title('Monthly Aggregated Quantity')\n",
    "axs[1].tick_params(axis='x', rotation=45)\n",
    "\n",
    "# Use MaxNLocator to reduce the number of x-ticks to 10\n",
    "axs[1].xaxis.set_major_locator(MaxNLocator(nbins=10))\n",
    "\n",
    "# Adjust layout\n",
    "plt.tight_layout()\n",
    "\n",
    "# Show the plot\n",
    "plt.show()"
   ]
  },
  {
   "cell_type": "code",
   "execution_count": null,
   "metadata": {},
   "outputs": [],
   "source": [
    "items = dfs[\"DIM_ITEM\"]; items"
   ]
  },
  {
   "cell_type": "code",
   "execution_count": null,
   "metadata": {},
   "outputs": [],
   "source": [
    "set(list(items[\"SL_DISTCHA_TEXT\"]))"
   ]
  },
  {
   "cell_type": "code",
   "execution_count": null,
   "metadata": {},
   "outputs": [],
   "source": [
    "set(list(items[\"SL_SAORG_TEXT\"]))"
   ]
  },
  {
   "cell_type": "code",
   "execution_count": null,
   "metadata": {},
   "outputs": [],
   "source": [
    "set(list(items[\"SL_BR_NO\"]))"
   ]
  },
  {
   "cell_type": "code",
   "execution_count": null,
   "metadata": {},
   "outputs": [],
   "source": [
    "invoice[\"item_id\"] = invoice[\"OINV_ITEM_ID\"]\n",
    "items[\"item_id\"] = items[\"SL_ITEM_ID\"]"
   ]
  },
  {
   "cell_type": "code",
   "execution_count": null,
   "metadata": {},
   "outputs": [],
   "source": [
    "all_item_ids_match = invoice['item_id'].isin(items['item_id'])\n",
    "missing_item_ids_orders = invoice[~all_item_ids_match]"
   ]
  },
  {
   "cell_type": "code",
   "execution_count": null,
   "metadata": {},
   "outputs": [],
   "source": [
    "print(\"Orders with item_ids not found in items dataframe:\")\n",
    "print(missing_item_ids_orders[\"item_id\"])"
   ]
  },
  {
   "cell_type": "code",
   "execution_count": null,
   "metadata": {},
   "outputs": [],
   "source": [
    "merged = pd.merge(invoice, items, on=\"item_id\")"
   ]
  },
  {
   "cell_type": "code",
   "execution_count": null,
   "metadata": {},
   "outputs": [],
   "source": [
    "print(merged.isnull().sum())"
   ]
  },
  {
   "cell_type": "code",
   "execution_count": null,
   "metadata": {},
   "outputs": [],
   "source": [
    "final_customer_merged = merged[merged[\"SL_DISTCHA_TEXT\"] == \"Final customer sales\"]"
   ]
  },
  {
   "cell_type": "code",
   "execution_count": null,
   "metadata": {},
   "outputs": [],
   "source": [
    "final_customer_merged[\"OINV_INVOICE_NET_VALUE\"]"
   ]
  },
  {
   "cell_type": "code",
   "execution_count": null,
   "metadata": {},
   "outputs": [],
   "source": [
    "for name in set(list(items[\"SL_SAORG_TEXT\"])):\n",
    "    print(name)\n",
    "    print(len(merged[(merged[\"SL_SAORG_TEXT\"] == name) & (merged[\"SL_DISTCHA_TEXT\"] == \"Final customer sales\")]))"
   ]
  },
  {
   "cell_type": "code",
   "execution_count": null,
   "metadata": {},
   "outputs": [],
   "source": [
    "len(invoice)"
   ]
  },
  {
   "cell_type": "code",
   "execution_count": null,
   "metadata": {},
   "outputs": [],
   "source": [
    "merged[\"OINV_SECTOR_NO\"]"
   ]
  },
  {
   "cell_type": "code",
   "execution_count": null,
   "metadata": {},
   "outputs": [],
   "source": [
    "len(items)"
   ]
  },
  {
   "cell_type": "code",
   "execution_count": null,
   "metadata": {},
   "outputs": [],
   "source": [
    "invoice[\"OINV_SECTOR_NO\"].sample(10)"
   ]
  },
  {
   "cell_type": "code",
   "execution_count": null,
   "metadata": {},
   "outputs": [],
   "source": []
  }
 ],
 "metadata": {
  "kernelspec": {
   "display_name": ".venv",
   "language": "python",
   "name": "python3"
  },
  "language_info": {
   "codemirror_mode": {
    "name": "ipython",
    "version": 3
   },
   "file_extension": ".py",
   "mimetype": "text/x-python",
   "name": "python",
   "nbconvert_exporter": "python",
   "pygments_lexer": "ipython3",
   "version": "3.12.1"
  }
 },
 "nbformat": 4,
 "nbformat_minor": 2
}
